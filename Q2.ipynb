{
 "cells": [
  {
   "cell_type": "code",
   "execution_count": 84,
   "metadata": {},
   "outputs": [],
   "source": [
    "import numpy as np\n",
    "import matplotlib.pyplot as plt\n",
    "import pandas as pd\n",
    "from sklearn.model_selection import train_test_split\n"
   ]
  },
  {
   "cell_type": "code",
   "execution_count": 85,
   "metadata": {},
   "outputs": [],
   "source": [
    "# Initialize weights\n",
    "def initialize_weights(layer_dimensions):\n",
    "    np.random.seed(42) # For reproducibility\n",
    "    parameters = {}\n",
    "    L = len(layer_dimensions) - 1 # Number of layers excluding input layer\n",
    "    for l in range(1, L + 1):\n",
    "        # The initialization for weights\n",
    "        parameters[f\"W{l}\"] = np.random.randn(\n",
    "            layer_dimensions[l], layer_dimensions[l - 1]\n",
    "            ) * np.sqrt(2 / layer_dimensions[l - 1])\n",
    "\n",
    "        # Initializing biases to zeros\n",
    "        parameters[f\"b{l}\"] = np.zeros((layer_dimensions[l], 1))\n",
    "    return parameters"
   ]
  },
  {
   "cell_type": "code",
   "execution_count": 86,
   "metadata": {},
   "outputs": [],
   "source": [
    "# Activation functions\n",
    "elu_alpha = 1\n",
    "def elu(x):\n",
    "    return np.where(x > 0, x, elu_alpha * (np.exp(x) - 1))\n",
    "\n",
    "def softmax(x):\n",
    "    exp_x = np.exp(x)\n",
    "    return exp_x / np.sum(exp_x, axis = 0, keepdims = True)\n"
   ]
  },
  {
   "cell_type": "code",
   "execution_count": 87,
   "metadata": {},
   "outputs": [],
   "source": [
    "# cross-entropy Cost function\n",
    "\n",
    "def cost(y_hat, y):\n",
    "    assert(y.shape[0] == y_hat.shape[0])\n",
    "    assert(y.shape[1] == y_hat.shape[1])\n",
    "    assert(y.shape[1] == 1)\n",
    "\n",
    "    m = y.shape[1]\n",
    "    return -np.sum(y * np.log(y_hat)) / m\n",
    "\n",
    "# Test\n",
    "y_temp = np.array([[1], [0], [0]])\n",
    "y_hat_temp = np.array([[0.1], [0.1], [0.8]])\n",
    "assert(cost(y_hat_temp, y_temp) > 1)"
   ]
  },
  {
   "cell_type": "code",
   "execution_count": 88,
   "metadata": {},
   "outputs": [],
   "source": [
    "# Forward propagation functions\n",
    "\n",
    "def linear_and_activation_forward(prev_A, W, b, activation_function):\n",
    "    # Assert part (for debugging)\n",
    "    assert(W.shape[1] == prev_A.shape[0])\n",
    "    assert(b.shape[1] == 1)\n",
    "    assert(W.shape[0] == b.shape[0])\n",
    "\n",
    "    # Linear part forward\n",
    "    Z = W @ prev_A + b\n",
    "\n",
    "    # Activation part forward\n",
    "    if activation_function == 'elu':\n",
    "        A = elu(Z)\n",
    "    elif activation_function == 'softmax':\n",
    "        A = softmax(Z)\n",
    "    else:\n",
    "        assert(false)\n",
    "    \n",
    "    cache = ((prev_A, W, b), Z)\n",
    "    return A, cache\n",
    "\n",
    "def forward_propagation(X, parameters):\n",
    "    caches = []\n",
    "    A = X\n",
    "    L = len(parameters) // 2\n",
    "    for l in range(1, L):\n",
    "        A_prev = A\n",
    "        W = parameters[f\"W{l}\"]\n",
    "        b = parameters[f\"b{l}\"]\n",
    "        A, cache = linear_and_activation_forward(A_prev, W, b, 'elu')\n",
    "        caches.append(cache)\n",
    "    \n",
    "    W = parameters[f\"W{L}\"]\n",
    "    b = parameters[f\"b{L}\"]\n",
    "    A, cache = linear_and_activation_forward(A, W, b, 'softmax')\n",
    "    caches.append(cache)\n",
    "\n",
    "    return A, caches\n",
    "    "
   ]
  },
  {
   "cell_type": "code",
   "execution_count": 89,
   "metadata": {},
   "outputs": [],
   "source": [
    "# Backward propagation functions\n",
    "\n",
    "def linear_and_activation_backward(dA, cache, is_last_layer):\n",
    "    # Extract useful caches\n",
    "    linear_cache, activation_cache = cache\n",
    "    A_prev, W, b = linear_cache\n",
    "    m = A_prev.shape[1]\n",
    "\n",
    "    dZ = np.array(dA, copy = True)\n",
    "\n",
    "    # Activation part backward\n",
    "\n",
    "    if not is_last_layer:\n",
    "        dZ[activation_cache <= 0] = dA[activation_cache <= 0] * (elu_alpha * np.exp(activation_cache[activation_cache <= 0]))\n",
    "\n",
    "    # Linear part backward\n",
    "    dW = dZ @ A_prev.T / m\n",
    "    db = np.sum(dZ, axis = 1, keepdims = True) / m\n",
    "    dA_prev = W.T @ dZ\n",
    "\n",
    "    return dA_prev, dW, db\n",
    "\n",
    "def backward_propagation(Y, Y_hat, caches):\n",
    "    grads = {}\n",
    "    L = len(caches)\n",
    "    m = Y_hat.shape[1]\n",
    "    assert(Y.shape == Y_hat.shape)\n",
    "\n",
    "    dA = Y - Y_hat\n",
    "    \n",
    "    dA, dW, db = linear_and_activation_backward(dA, caches[L - 1], is_last_layer = True)\n",
    "    grads[f\"dA{L - 1}\"] = dA\n",
    "    grads[f\"dW{L}\"] = dW\n",
    "    grads[f\"db{L}\"] = db\n",
    "    \n",
    "    for l in np.arange(L - 2, -1, -1):\n",
    "        dA, dW, db = linear_and_activation_backward(dA, caches[l], is_last_layer = False)\n",
    "        grads[f\"dA{l}\"] = dA\n",
    "        grads[f\"dW{l + 1}\"] = dW\n",
    "        grads[f\"db{l + 1}\"] = db\n",
    "\n",
    "    return grads"
   ]
  },
  {
   "cell_type": "code",
   "execution_count": 90,
   "metadata": {},
   "outputs": [],
   "source": [
    "# Update parameters\n",
    "\n",
    "def update_parameters(parameters, grads, learning_rate):\n",
    "    L = len(parameters) // 2\n",
    "    for l in range(L):\n",
    "        parameters[f\"W{l}\"] = parameters[f\"W{l}\"] - learning_rate * grads[f\"dW{l}\"]\n",
    "        parameters[f\"b{l}\"] = parameters[f\"b{l}\"] - learning_rate * grads[f\"db{l}\"]"
   ]
  },
  {
   "cell_type": "code",
   "execution_count": 91,
   "metadata": {},
   "outputs": [
    {
     "name": "stdout",
     "output_type": "stream",
     "text": [
      "Output of feed forward is: \n",
      " [[0.01158557]\n",
      " [0.40535973]\n",
      " [0.5830547 ]]\n"
     ]
    }
   ],
   "source": [
    "# Part (i)\n",
    "\n",
    "hl_count = 5\n",
    "n_x = 5\n",
    "n_h = 10 \n",
    "n_y = 3\n",
    "\n",
    "layer_dimensions = [n_x] + hl_count * [n_h] + [n_y]\n",
    "X = np.array([[1], [2], [3], [4], [5]])\n",
    "\n",
    "parameters = initialize_weights(layer_dimensions)\n",
    "\n",
    "output, caches = forward_propagation(X, parameters)\n",
    "print(\"Output of feed forward is: \\n\", output)"
   ]
  },
  {
   "cell_type": "code",
   "execution_count": 92,
   "metadata": {},
   "outputs": [
    {
     "data": {
      "image/png": "[encoded data removed]",
      "text/plain": [
       "<Figure size 432x288 with 1 Axes>"
      ]
     },
     "metadata": {
      "needs_background": "light"
     },
     "output_type": "display_data"
    }
   ],
   "source": [
    "# Part (ii)\n",
    "\n",
    "# Initialize\n",
    "hl_count = 30\n",
    "n_x = 5\n",
    "n_h = 10 \n",
    "n_y = 3\n",
    "\n",
    "layer_dimensions = [n_x] + hl_count * [n_h] + [n_y]\n",
    "X = np.array([[1], [2], [3], [4], [5]])\n",
    "Y = np.array([[1], [0], [0]])\n",
    "\n",
    "# Run forward\n",
    "parameters = initialize_weights(layer_dimensions)\n",
    "y_hat, caches = forward_propagation(X, parameters)\n",
    "\n",
    "# Run backward\n",
    "grads = backward_propagation(Y, y_hat, caches)\n",
    "\n",
    "# Plot norm of derivitives\n",
    "L = len(grads) // 3\n",
    "xpoints = []\n",
    "ypoints = []\n",
    "for l in range(1, L + 1):\n",
    "    xpoints.append(l)\n",
    "    ypoints.append(np.linalg.norm(grads[f\"dW{l}\"]))\n",
    "\n",
    "plt.plot(xpoints, ypoints)\n",
    "plt.show()"
   ]
  },
  {
   "cell_type": "markdown",
   "metadata": {},
   "source": [
    "## Part (ii)\n",
    "\n",
    "### Explanation: "
   ]
  },
  {
   "cell_type": "code",
   "execution_count": 93,
   "metadata": {},
   "outputs": [],
   "source": [
    "# Part (iii)\n",
    "\n",
    "# Load the CSV file\n",
    "data = pd.read_csv('diabetes_binary_health_indicators_BRFSS2015.csv', )\n",
    "\n",
    "# Extract labels and features\n",
    "features = data.drop(['Diabetes_binary', 'HighBP', 'HighChol'], axis = 1)\n",
    "labels = data[['Diabetes_binary', 'HighBP', 'HighChol']]\n",
    "X_train, X_test, y_train, y_test = train_test_split(features, labels, test_size = 0.2, random_state = 42)\n",
    "X_train = X_train.T.values\n",
    "X_test = X_test.T.values\n",
    "y_train = y_train.T.values\n",
    "y_test = y_test.T.values"
   ]
  },
  {
   "cell_type": "code",
   "execution_count": 98,
   "metadata": {},
   "outputs": [],
   "source": [
    "def extract_batch(batch_index, batch_size, X_train, y_train):\n",
    "    features_count = X_train.shape[1]\n",
    "    \n",
    "    l = i * batch_size\n",
    "    r = min(l + batch_size, features_count)\n",
    "\n",
    "    batch_features = X_train[:, l : r]\n",
    "    batch_answers = y_train[:, l : r]\n",
    "\n",
    "    return batch_features, batch_answers\n",
    "    \n",
    "def run_dnn_model(X_train, y_train, hl_count, n_h, epoch_number, batch_size, learning_rate, momentum_v, gd_type):\n",
    "    n_x = X_train.shape[0]\n",
    "    n_y = y_train.shape[0]\n",
    "\n",
    "    layer_dimensions = [n_x] + hl_count * [n_h] + [n_y]\n",
    "\n",
    "    for i in range(epoch_number):\n",
    "        batch_features, batch_answers = extract_batch(i, batch_size, X_train, y_train)\n",
    "        \n",
    "        # Run forward\n",
    "        parameters = initialize_weights(layer_dimensions)\n",
    "        y_hat, caches = forward_propagation(batch_features, parameters)\n",
    "\n",
    "        # Run backward\n",
    "        grads = backward_propagation(batch_answers, y_hat, caches)\n",
    "        \n",
    "    return parameters"
   ]
  },
  {
   "cell_type": "code",
   "execution_count": 100,
   "metadata": {},
   "outputs": [],
   "source": [
    "# Part (ii)\n",
    "\n",
    "optimized_parameters = run_dnn_model(X_train, y_train,\n",
    "              hl_count = 5, n_h = 10, \n",
    "              epoch_number = 200, batch_size = 100, learning_rate = 0.5, momentum_v = 0.9,\n",
    "              gd_type = \"SGD\")"
   ]
  },
  {
   "cell_type": "code",
   "execution_count": null,
   "metadata": {},
   "outputs": [],
   "source": []
  }
 ],
 "metadata": {
  "kernelspec": {
   "display_name": "Python 3",
   "language": "python",
   "name": "python3"
  },
  "language_info": {
   "codemirror_mode": {
    "name": "ipython",
    "version": 3
   },
   "file_extension": ".py",
   "mimetype": "text/x-python",
   "name": "python",
   "nbconvert_exporter": "python",
   "pygments_lexer": "ipython3",
   "version": "3.8.8"
  }
 },
 "nbformat": 4,
 "nbformat_minor": 2
}
