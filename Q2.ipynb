{
 "cells": [
  {
   "cell_type": "code",
   "execution_count": 58,
   "metadata": {},
   "outputs": [],
   "source": [
    "import numpy as np"
   ]
  },
  {
   "cell_type": "code",
   "execution_count": 106,
   "metadata": {},
   "outputs": [],
   "source": [
    "# Initialize weights\n",
    "def initialize_weights(layer_dimensions):\n",
    "    np.random.seed(42) # For reproducibility\n",
    "    parameters = {}\n",
    "    L = len(layer_dimensions) - 1 # Number of layers excluding input layer\n",
    "    for l in range(1, L + 1):\n",
    "        # The initialization for weights\n",
    "        parameters[f\"W{l}\"] = np.random.randn(\n",
    "            layer_dimensions[l], layer_dimensions[l - 1]\n",
    "            ) * np.sqrt(2 / layer_dimensions[l - 1])\n",
    "\n",
    "        # Initializing biases to zeros\n",
    "        parameters[f\"b{l}\"] = np.zeros((layer_dimensions[l], 1))\n",
    "    return parameters"
   ]
  },
  {
   "cell_type": "code",
   "execution_count": 107,
   "metadata": {},
   "outputs": [],
   "source": [
    "# Activation functions\n",
    "\n",
    "def elu(x):\n",
    "    alpha = 1\n",
    "    return np.where(x > 0, x, alpha * (np.exp(x) - 1))\n",
    "\n",
    "def softmax(x):\n",
    "    exp_x = np.exp(x)\n",
    "    return exp_x / np.sum(exp_x, axis = 0, keepdims = True)\n"
   ]
  },
  {
   "cell_type": "code",
   "execution_count": 129,
   "metadata": {},
   "outputs": [],
   "source": [
    "# cross-entropy Loss function\n",
    "def loss(y_hat, y):\n",
    "    assert(y.shape[0] == y_hat.shape[0])\n",
    "    assert(y.shape[1] == y_hat.shape[1])\n",
    "    assert(y.shape[1] == 1)\n",
    "    return -np.sum(y * np.log(y_hat))\n",
    "\n",
    "# Test\n",
    "y_temp = np.array([[1], [0], [0]])\n",
    "y_hat_temp = np.array([[0.1], [0.1], [0.8]])\n",
    "assert(loss(y_hat_temp, y_temp) > 1)"
   ]
  },
  {
   "cell_type": "code",
   "execution_count": 108,
   "metadata": {},
   "outputs": [],
   "source": [
    "# Forward functions\n",
    "\n",
    "def linear_and_activation_forward(prev_A, W, b):\n",
    "    assert(prev_A.shape[1] == 1)\n",
    "    assert(W.shape[1] == prev_A.shape[0])\n",
    "    assert(b.shape[1] == 1)\n",
    "    assert(W.shape[0] == b.shape[0])\n",
    "\n",
    "    Z = np.dot(W, prev_A) + b\n",
    "\n",
    "    A = elu(Z)\n",
    "    cache = ((prev_A, W, b), Z)\n",
    "    return A, cache\n",
    "\n",
    "def linear_and_activation_output(prev_A, W, b):\n",
    "    Z = np.dot(W, prev_A) + b\n",
    "    A = softmax(Z)\n",
    "    cache = ((prev_A, W, b), Z)\n",
    "    return A, cache\n",
    "\n",
    "def feed_forward(X, parameters):\n",
    "    caches = []\n",
    "    A = X\n",
    "    L = len(parameters) // 2\n",
    "    for l in range(1, L):\n",
    "        A_prev = A\n",
    "        W = parameters[f\"W{l}\"]\n",
    "        b = parameters[f\"b{l}\"]\n",
    "        A, cache = linear_and_activation_forward(A_prev, W, b)\n",
    "        caches.append(cache)\n",
    "    \n",
    "    W = parameters[f\"W{L}\"]\n",
    "    b = parameters[f\"b{L}\"]\n",
    "    A, cache = linear_and_activation_output(A, W, b)\n",
    "    caches.append(cache)\n",
    "\n",
    "    return A, caches\n",
    "    "
   ]
  },
  {
   "cell_type": "code",
   "execution_count": 109,
   "metadata": {},
   "outputs": [],
   "source": [
    "# Initialize network\n",
    "\n",
    "hl_count = 5\n",
    "n_x = 5\n",
    "n_h = 10 \n",
    "n_y = 3\n",
    "\n",
    "layer_dimensions = [n_x] + [n_h for _ in range(0, hl_count)] + [n_y]\n",
    "X = np.array([[1], [2], [3], [4], [5]])\n",
    "\n",
    "parameters = initialize_weights(layer_dimensions)"
   ]
  },
  {
   "cell_type": "code",
   "execution_count": 131,
   "metadata": {},
   "outputs": [
    {
     "name": "stdout",
     "output_type": "stream",
     "text": [
      "Output of feed forward is: \n",
      " [[0.01158557]\n",
      " [0.40535973]\n",
      " [0.5830547 ]]\n"
     ]
    }
   ],
   "source": [
    "# Run feed forward algorithm and get output\n",
    "\n",
    "output, caches = feed_forward(X, parameters)\n",
    "print(\"Output of feed forward is: \\n\", output)"
   ]
  },
  {
   "cell_type": "code",
   "execution_count": null,
   "metadata": {},
   "outputs": [],
   "source": []
  }
 ],
 "metadata": {
  "kernelspec": {
   "display_name": "Python 3",
   "language": "python",
   "name": "python3"
  },
  "language_info": {
   "codemirror_mode": {
    "name": "ipython",
    "version": 3
   },
   "file_extension": ".py",
   "mimetype": "text/x-python",
   "name": "python",
   "nbconvert_exporter": "python",
   "pygments_lexer": "ipython3",
   "version": "3.9.6"
  }
 },
 "nbformat": 4,
 "nbformat_minor": 2
}
