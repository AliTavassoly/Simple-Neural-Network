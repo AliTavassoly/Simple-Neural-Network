{
 "cells": [
  {
   "cell_type": "code",
   "execution_count": 1,
   "metadata": {},
   "outputs": [],
   "source": [
    "import numpy as np"
   ]
  },
  {
   "cell_type": "code",
   "execution_count": 2,
   "metadata": {},
   "outputs": [],
   "source": [
    "# Initialize weights\n",
    "def initialize_weights(layer_dimensions):\n",
    "    np.random.seed(42) # For reproducibility\n",
    "    parameters = {}\n",
    "    L = len(layer_dimensions) - 1 # Number of layers excluding input layer\n",
    "    for l in range(1, L + 1):\n",
    "        # The initialization for weights\n",
    "        parameters[f\"W{l}\"] = np.random.randn(\n",
    "            layer_dimensions[l], layer_dimensions[l - 1]\n",
    "            ) * np.sqrt(2 / layer_dimensions[l - 1])\n",
    "\n",
    "        # Initializing biases to zeros\n",
    "        parameters[f\"b{l}\"] = np.zeros((layer_dimensions[l], 1))\n",
    "    return parameters"
   ]
  },
  {
   "cell_type": "code",
   "execution_count": 3,
   "metadata": {},
   "outputs": [],
   "source": [
    "# Activation functions\n",
    "elu_alpha = 1\n",
    "def elu(x):\n",
    "    return np.where(x > 0, x, elu_alpha * (np.exp(x) - 1))\n",
    "\n",
    "def softmax(x):\n",
    "    exp_x = np.exp(x)\n",
    "    return exp_x / np.sum(exp_x, axis = 0, keepdims = True)\n"
   ]
  },
  {
   "cell_type": "code",
   "execution_count": 4,
   "metadata": {},
   "outputs": [],
   "source": [
    "# cross-entropy Cost function\n",
    "\n",
    "def cost(y_hat, y):\n",
    "    assert(y.shape[0] == y_hat.shape[0])\n",
    "    assert(y.shape[1] == y_hat.shape[1])\n",
    "    assert(y.shape[1] == 1)\n",
    "\n",
    "    m = y.shape[1]\n",
    "    return -np.sum(y * np.log(y_hat)) / m\n",
    "\n",
    "# Test\n",
    "y_temp = np.array([[1], [0], [0]])\n",
    "y_hat_temp = np.array([[0.1], [0.1], [0.8]])\n",
    "assert(cost(y_hat_temp, y_temp) > 1)"
   ]
  },
  {
   "cell_type": "code",
   "execution_count": 5,
   "metadata": {},
   "outputs": [],
   "source": [
    "# Forward propagation functions\n",
    "\n",
    "def linear_and_activation_forward(prev_A, W, b, activation_function):\n",
    "    # Assert part (for debugging)\n",
    "    assert(prev_A.shape[1] == 1)\n",
    "    assert(W.shape[1] == prev_A.shape[0])\n",
    "    assert(b.shape[1] == 1)\n",
    "    assert(W.shape[0] == b.shape[0])\n",
    "\n",
    "    # Linear part forward\n",
    "    Z = np.matmul(W, prev_A) + b\n",
    "\n",
    "    # Activation part forward\n",
    "    if activation_function == 'elu':\n",
    "        A = elu(Z)\n",
    "    elif activation_function == 'softmax':\n",
    "        A = softmax(Z)\n",
    "    else:\n",
    "        assert(false)\n",
    "    \n",
    "    cache = ((prev_A, W, b), Z)\n",
    "    return A, cache\n",
    "\n",
    "def forward_propagation(X, parameters):\n",
    "    caches = []\n",
    "    A = X\n",
    "    L = len(parameters) // 2\n",
    "    for l in range(1, L):\n",
    "        A_prev = A\n",
    "        W = parameters[f\"W{l}\"]\n",
    "        b = parameters[f\"b{l}\"]\n",
    "        A, cache = linear_and_activation_forward(A_prev, W, b, 'elu')\n",
    "        caches.append(cache)\n",
    "    \n",
    "    W = parameters[f\"W{L}\"]\n",
    "    b = parameters[f\"b{L}\"]\n",
    "    A, cache = linear_and_activation_forward(A, W, b, 'softmax')\n",
    "    caches.append(cache)\n",
    "\n",
    "    return A, caches\n",
    "    "
   ]
  },
  {
   "cell_type": "code",
   "execution_count": 6,
   "metadata": {},
   "outputs": [],
   "source": [
    "# Backward propagation functions\n",
    "\n",
    "def linear_and_activation_backward(dA, cache, activation_function):\n",
    "    # Extract useful caches\n",
    "    linear_cache, activation_cache = cache\n",
    "    A_prev, W, b = linear_cache\n",
    "\n",
    "    # Activation part backward\n",
    "    if activation_function == 'elu':\n",
    "        dZ = np.array(dA, copy=True)\n",
    "        dZ[activation_cache <= 0] = dA[activation_cache <= 0] * (elu_alpha * np.exp(activation_cache[activation_cache <= 0]))\n",
    "    elif activation_function == 'softmax':\n",
    "        # TODO\n",
    "    else:\n",
    "        assert(false)\n",
    "\n",
    "    print(activation_cache)\n",
    "    print(dZ)\n",
    "    \n",
    "    # Linear part backward\n",
    "    dW = np.mulmat(dZ, A_prev.T) / m\n",
    "    db = np.sum(dZ, axis = 1, keepdims = True) / m\n",
    "    dA_prev = np.mulmat(W.T, dZ)\n",
    "\n",
    "    return dA_prev, dW, db\n",
    "\n",
    "def backward_propagation(Y, Y_hat, caches):\n",
    "    grads = {}\n",
    "    L = len(caches)\n",
    "    m = Y_hat.shape[1]\n",
    "\n",
    "    assert(Y.shape == Y_hat.shape)\n",
    "\n",
    "    dA = Y - Y_hat\n",
    "    print(\"Shape: \", dA.shape)\n",
    "    \n",
    "    dA, dW, db = linear_and_activation_backward(dA, caches[L - 1], 'softmax')\n",
    "    grads[f\"dA{L - 1}\"] = dA\n",
    "    grads[f\"dW{L}\"] = dW\n",
    "    grads[f\"db{L}\"] = db\n",
    "    \n",
    "    for l in np.arange(L - 2, -1, -1):\n",
    "        dA, dW, db = linear_and_activation_backward(dA, caches[l], 'relu')\n",
    "        grads[f\"dA{l}\"] = dA\n",
    "        grads[f\"dW{l + 1}\"] = dW\n",
    "        grads[f\"db{l + 1}\"] = db\n",
    "\n",
    "    return grads"
   ]
  },
  {
   "cell_type": "code",
   "execution_count": 7,
   "metadata": {},
   "outputs": [],
   "source": [
    "# Update parameters\n",
    "\n",
    "def update_parameters(parameters, grads, learning_rate):\n",
    "    L = len(parameters) // 2\n",
    "    for l in range(0, L):\n",
    "        parameters[f\"W{l}\"] = parameters[f\"W{l}\"] - learning_rate * grads[f\"dW{l}\"]\n",
    "        parameters[f\"b{l}\"] = parameters[f\"b{l}\"] - learning_rate * grads[f\"db{l}\"]"
   ]
  },
  {
   "cell_type": "code",
   "execution_count": 9,
   "metadata": {},
   "outputs": [
    {
     "name": "stdout",
     "output_type": "stream",
     "text": [
      "Output of feed forward is: \n",
      " [[0.01158557]\n",
      " [0.40535973]\n",
      " [0.5830547 ]]\n"
     ]
    }
   ],
   "source": [
    "# Part (i)\n",
    "\n",
    "hl_count = 5\n",
    "n_x = 5\n",
    "n_h = 10 \n",
    "n_y = 3\n",
    "\n",
    "layer_dimensions = [n_x] + [n_h for _ in range(0, hl_count)] + [n_y]\n",
    "X = np.array([[1], [2], [3], [4], [5]])\n",
    "\n",
    "parameters = initialize_weights(layer_dimensions)\n",
    "\n",
    "output, caches = forward_propagation(X, parameters)\n",
    "print(\"Output of feed forward is: \\n\", output)"
   ]
  },
  {
   "cell_type": "code",
   "execution_count": 9,
   "metadata": {},
   "outputs": [
    {
     "name": "stdout",
     "output_type": "stream",
     "text": [
      "Shape:  (3, 1)\n"
     ]
    },
    {
     "ename": "ValueError",
     "evalue": "operands could not be broadcast together with shapes (10,1) (3,1) ",
     "output_type": "error",
     "traceback": [
      "\u001b[1;31m---------------------------------------------------------------------------\u001b[0m",
      "\u001b[1;31mValueError\u001b[0m                                Traceback (most recent call last)",
      "Cell \u001b[1;32mIn[9], line 18\u001b[0m\n\u001b[0;32m     15\u001b[0m y_hat, caches \u001b[38;5;241m=\u001b[39m forward_propagation(X, parameters)\n\u001b[0;32m     17\u001b[0m \u001b[38;5;66;03m# Run backward\u001b[39;00m\n\u001b[1;32m---> 18\u001b[0m grads \u001b[38;5;241m=\u001b[39m \u001b[43mbackward_propagation\u001b[49m\u001b[43m(\u001b[49m\u001b[43mY\u001b[49m\u001b[43m,\u001b[49m\u001b[43m \u001b[49m\u001b[43my_hat\u001b[49m\u001b[43m,\u001b[49m\u001b[43m \u001b[49m\u001b[43mcaches\u001b[49m\u001b[43m)\u001b[49m\n",
      "Cell \u001b[1;32mIn[6], line 37\u001b[0m, in \u001b[0;36mbackward_propagation\u001b[1;34m(Y, Y_hat, caches)\u001b[0m\n\u001b[0;32m     34\u001b[0m dA \u001b[38;5;241m=\u001b[39m Y \u001b[38;5;241m-\u001b[39m Y_hat\n\u001b[0;32m     35\u001b[0m \u001b[38;5;28mprint\u001b[39m(\u001b[38;5;124m\"\u001b[39m\u001b[38;5;124mShape: \u001b[39m\u001b[38;5;124m\"\u001b[39m, dA\u001b[38;5;241m.\u001b[39mshape)\n\u001b[1;32m---> 37\u001b[0m dA, dW, db \u001b[38;5;241m=\u001b[39m \u001b[43mlinear_and_activation_backward\u001b[49m\u001b[43m(\u001b[49m\u001b[43mdA\u001b[49m\u001b[43m,\u001b[49m\u001b[43m \u001b[49m\u001b[43mcaches\u001b[49m\u001b[43m[\u001b[49m\u001b[43mL\u001b[49m\u001b[43m \u001b[49m\u001b[38;5;241;43m-\u001b[39;49m\u001b[43m \u001b[49m\u001b[38;5;241;43m1\u001b[39;49m\u001b[43m]\u001b[49m\u001b[43m,\u001b[49m\u001b[43m \u001b[49m\u001b[38;5;124;43m'\u001b[39;49m\u001b[38;5;124;43msoftmax\u001b[39;49m\u001b[38;5;124;43m'\u001b[39;49m\u001b[43m)\u001b[49m\n\u001b[0;32m     38\u001b[0m grads[\u001b[38;5;124mf\u001b[39m\u001b[38;5;124m\"\u001b[39m\u001b[38;5;124mdA\u001b[39m\u001b[38;5;132;01m{\u001b[39;00mL\u001b[38;5;250m \u001b[39m\u001b[38;5;241m-\u001b[39m\u001b[38;5;250m \u001b[39m\u001b[38;5;241m1\u001b[39m\u001b[38;5;132;01m}\u001b[39;00m\u001b[38;5;124m\"\u001b[39m] \u001b[38;5;241m=\u001b[39m dA\n\u001b[0;32m     39\u001b[0m grads[\u001b[38;5;124mf\u001b[39m\u001b[38;5;124m\"\u001b[39m\u001b[38;5;124mdW\u001b[39m\u001b[38;5;132;01m{\u001b[39;00mL\u001b[38;5;132;01m}\u001b[39;00m\u001b[38;5;124m\"\u001b[39m] \u001b[38;5;241m=\u001b[39m dW\n",
      "Cell \u001b[1;32mIn[6], line 13\u001b[0m, in \u001b[0;36mlinear_and_activation_backward\u001b[1;34m(dA, cache, activation_function)\u001b[0m\n\u001b[0;32m     11\u001b[0m     dZ[activation_cache \u001b[38;5;241m<\u001b[39m\u001b[38;5;241m=\u001b[39m \u001b[38;5;241m0\u001b[39m] \u001b[38;5;241m=\u001b[39m dA[activation_cache \u001b[38;5;241m<\u001b[39m\u001b[38;5;241m=\u001b[39m \u001b[38;5;241m0\u001b[39m] \u001b[38;5;241m*\u001b[39m (elu_alpha \u001b[38;5;241m*\u001b[39m np\u001b[38;5;241m.\u001b[39mexp(activation_cache[activation_cache \u001b[38;5;241m<\u001b[39m\u001b[38;5;241m=\u001b[39m \u001b[38;5;241m0\u001b[39m]))\n\u001b[0;32m     12\u001b[0m \u001b[38;5;28;01melif\u001b[39;00m activation_function \u001b[38;5;241m==\u001b[39m \u001b[38;5;124m'\u001b[39m\u001b[38;5;124msoftmax\u001b[39m\u001b[38;5;124m'\u001b[39m:\n\u001b[1;32m---> 13\u001b[0m     dZ \u001b[38;5;241m=\u001b[39m \u001b[43mA_prev\u001b[49m\u001b[43m \u001b[49m\u001b[38;5;241;43m-\u001b[39;49m\u001b[43m \u001b[49m\u001b[43mactivation_cache\u001b[49m\n\u001b[0;32m     14\u001b[0m \u001b[38;5;28;01melse\u001b[39;00m:\n\u001b[0;32m     15\u001b[0m     \u001b[38;5;28;01massert\u001b[39;00m(false)\n",
      "\u001b[1;31mValueError\u001b[0m: operands could not be broadcast together with shapes (10,1) (3,1) "
     ]
    }
   ],
   "source": [
    "# Part (ii)\n",
    "\n",
    "# Initialize\n",
    "hl_count = 30\n",
    "n_x = 5\n",
    "n_h = 10 \n",
    "n_y = 3\n",
    "\n",
    "layer_dimensions = [n_x] + [n_h for _ in range(0, hl_count)] + [n_y]\n",
    "X = np.array([[1], [2], [3], [4], [5]])\n",
    "Y = np.array([[1], [0], [0]])\n",
    "\n",
    "# Run forward\n",
    "parameters = initialize_weights(layer_dimensions)\n",
    "y_hat, caches = forward_propagation(X, parameters)\n",
    "\n",
    "# Run backward\n",
    "grads = backward_propagation(Y, y_hat, caches)"
   ]
  },
  {
   "cell_type": "code",
   "execution_count": null,
   "metadata": {},
   "outputs": [],
   "source": []
  }
 ],
 "metadata": {
  "kernelspec": {
   "display_name": "Python 3",
   "language": "python",
   "name": "python3"
  },
  "language_info": {
   "codemirror_mode": {
    "name": "ipython",
    "version": 3
   },
   "file_extension": ".py",
   "mimetype": "text/x-python",
   "name": "python",
   "nbconvert_exporter": "python",
   "pygments_lexer": "ipython3",
   "version": "3.9.6"
  }
 },
 "nbformat": 4,
 "nbformat_minor": 2
}
